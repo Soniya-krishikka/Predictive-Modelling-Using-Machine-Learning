{
 "cells": [
  {
   "cell_type": "code",
   "execution_count": 4,
   "id": "edd037f1-5ac7-4144-9935-ab56eba2b6bf",
   "metadata": {},
   "outputs": [
    {
     "name": "stdout",
     "output_type": "stream",
     "text": [
      "                                      COMMENT_ID           AUTHOR  \\\n",
      "29         z13zvh1rmk3cf3mby04civbq5mjtddmbysk0k    Fun&amp;Hacks   \n",
      "0    LZQPQhLyRh80UYxNuaDWhIGQYNQ96IuCg-AYWqNPjpU        Julius NM   \n",
      "122          z135vx5jfu2mfvwvr22cj11wupbtfr1gz04   MrBrunoExtreme   \n",
      "179        z12yu11xyumitzpho04cix1y3zn3ijrpcm40k  Chinsoman Films   \n",
      "319        z12ct5z5hsnsjjpii04ccbzztmf1ulxxous0k     Viperas Lord   \n",
      "\n",
      "                    DATE                                            CONTENT  \\\n",
      "29   2014-01-19T00:42:35   Subscribe to me for free Android games, apps.. ﻿   \n",
      "0    2013-11-07T06:20:48  Huh, anyway check out this you[tube] channel: ...   \n",
      "122  2014-11-05T15:10:43                        Suscribe my channel please﻿   \n",
      "179  2014-11-07T01:22:02                            Please subscribe to me﻿   \n",
      "319  2014-11-12T09:20:12      www.marketglory.com/strategygame/lordviperas﻿   \n",
      "\n",
      "     CLASS  \n",
      "29       1  \n",
      "0        1  \n",
      "122      1  \n",
      "179      1  \n",
      "319      1  \n"
     ]
    }
   ],
   "source": [
    "import pandas as pd\n",
    "import numpy as np\n",
    "from sklearn.feature_extraction.text import CountVectorizer\n",
    "from sklearn.model_selection import train_test_split\n",
    "from sklearn.naive_bayes import BernoulliNB\n",
    "\n",
    "data = pd.read_csv(\"C:\\\\Users\\\\subal\\\\OneDrive\\\\Desktop\\\\Documents\\\\Project\\\\machine learning\\\\Youtube01-Psy.csv\")\n",
    "print(data.sample(5))"
   ]
  },
  {
   "cell_type": "code",
   "execution_count": 6,
   "id": "adaa20d9-4889-450a-88e8-37b7f0b86f7f",
   "metadata": {},
   "outputs": [
    {
     "name": "stdout",
     "output_type": "stream",
     "text": [
      "                                               CONTENT  CLASS\n",
      "68   This is the only video on youtube that get so ...      0\n",
      "342  Why does a song like this have more views than...      0\n",
      "38    Hey everyone!! I have just started my first Y...      1\n",
      "304                                I hate this song! ﻿      0\n",
      "73   http://www.ebay.com/itm/131338190916?ssPageNam...      1\n"
     ]
    }
   ],
   "source": [
    "data = data[[\"CONTENT\", \"CLASS\"]]\n",
    "print(data.sample(5))"
   ]
  },
  {
   "cell_type": "code",
   "execution_count": 8,
   "id": "ba0d8121-231e-47f6-bbaa-c1f8b3ee5424",
   "metadata": {},
   "outputs": [
    {
     "name": "stdout",
     "output_type": "stream",
     "text": [
      "                                               CONTENT         CLASS\n",
      "176  https://soundcloud.com/jackal-and-james/wrap-u...  Spam Comment\n",
      "126  PSY - GANGNAM STYLE (강남스타일) M/V: http://youtu....      Not Spam\n",
      "116                                 Made in china....﻿      Not Spam\n",
      "78   -----&gt;&gt;&gt;&gt;  https://www.facebook.co...  Spam Comment\n",
      "36   Check my channel please! And listen to the bes...  Spam Comment\n"
     ]
    }
   ],
   "source": [
    "data[\"CLASS\"] = data[\"CLASS\"].map({0: \"Not Spam\",\n",
    "                                   1: \"Spam Comment\"})\n",
    "print(data.sample(5))"
   ]
  },
  {
   "cell_type": "markdown",
   "id": "619735fd-04e5-40c4-8cef-fd4129dcc398",
   "metadata": {},
   "source": [
    "## Training a Classification Model"
   ]
  },
  {
   "cell_type": "code",
   "execution_count": 11,
   "id": "765cecc7-68bb-4018-84b1-2d8977251a61",
   "metadata": {},
   "outputs": [
    {
     "name": "stdout",
     "output_type": "stream",
     "text": [
      "0.9857142857142858\n"
     ]
    }
   ],
   "source": [
    "x = np.array(data[\"CONTENT\"])\n",
    "y = np.array(data[\"CLASS\"])\n",
    "\n",
    "cv = CountVectorizer()\n",
    "x = cv.fit_transform(x)\n",
    "xtrain, xtest, ytrain, ytest = train_test_split(x, y, \n",
    "                                                test_size=0.2, \n",
    "                                                random_state=42)\n",
    "\n",
    "model = BernoulliNB()\n",
    "model.fit(xtrain, ytrain)\n",
    "print(model.score(xtest, ytest))"
   ]
  },
  {
   "cell_type": "code",
   "execution_count": 13,
   "id": "948248df-7a6c-4751-90e3-169b1757b465",
   "metadata": {},
   "outputs": [
    {
     "name": "stdout",
     "output_type": "stream",
     "text": [
      "['Spam Comment']\n"
     ]
    }
   ],
   "source": [
    "#testing the model\n",
    "\n",
    "sample = \"Check this out: https://thecleverprogrammer.com/\" \n",
    "data = cv.transform([sample]).toarray()\n",
    "print(model.predict(data))"
   ]
  },
  {
   "cell_type": "code",
   "execution_count": 15,
   "id": "d0721435-a700-4697-b1c2-eee88bdeec05",
   "metadata": {},
   "outputs": [
    {
     "name": "stdin",
     "output_type": "stream",
     "text": [
      "Comment for prediction:  Thanks for the detail\n"
     ]
    },
    {
     "name": "stdout",
     "output_type": "stream",
     "text": [
      "['Not Spam']\n"
     ]
    }
   ],
   "source": [
    "sample = input(\"Comment for prediction: \")\n",
    "data = cv.transform([sample]).toarray()\n",
    "print(model.predict(data))"
   ]
  },
  {
   "cell_type": "code",
   "execution_count": 17,
   "id": "12b061bc-cce1-4a69-8e80-3804fdb54907",
   "metadata": {},
   "outputs": [
    {
     "name": "stdin",
     "output_type": "stream",
     "text": [
      "Comment for prediction:  I appreciate the prompt response to my query. The information you provided was very useful.\n"
     ]
    },
    {
     "name": "stdout",
     "output_type": "stream",
     "text": [
      "['Not Spam']\n"
     ]
    }
   ],
   "source": [
    "sample = input(\"Comment for prediction: \")\n",
    "data = cv.transform([sample]).toarray()\n",
    "print(model.predict(data))"
   ]
  },
  {
   "cell_type": "code",
   "execution_count": 21,
   "id": "e0c1c858-7d00-4134-878a-e3d6d450a11b",
   "metadata": {},
   "outputs": [
    {
     "name": "stdin",
     "output_type": "stream",
     "text": [
      "Comment for prediction:  Awesome video! Subscribe to my channel and I'll subscribe back!\n"
     ]
    },
    {
     "name": "stdout",
     "output_type": "stream",
     "text": [
      "['Spam Comment']\n"
     ]
    }
   ],
   "source": [
    "sample = input(\"Comment for prediction: \")\n",
    "data = cv.transform([sample]).toarray()\n",
    "print(model.predict(data))"
   ]
  },
  {
   "cell_type": "code",
   "execution_count": 29,
   "id": "28f77360-ddd0-4009-ac9b-bd62254b8ed0",
   "metadata": {},
   "outputs": [
    {
     "name": "stdin",
     "output_type": "stream",
     "text": [
      "Comment for prediction:  I loved the way you explained the concepts. Could you please make a video on advanced techniques?\n"
     ]
    },
    {
     "name": "stdout",
     "output_type": "stream",
     "text": [
      "['Not Spam']\n"
     ]
    }
   ],
   "source": [
    "sample = input(\"Comment for prediction: \")\n",
    "data = cv.transform([sample]).toarray()\n",
    "print(model.predict(data))"
   ]
  },
  {
   "cell_type": "code",
   "execution_count": 27,
   "id": "859749de-9532-413a-b759-abd12c51d927",
   "metadata": {},
   "outputs": [
    {
     "name": "stdin",
     "output_type": "stream",
     "text": [
      "Comment for prediction:  Amazing video! Want to boost your subscribers? Visit clickearn.com for a special deal\n"
     ]
    },
    {
     "name": "stdout",
     "output_type": "stream",
     "text": [
      "['Spam Comment']\n"
     ]
    }
   ],
   "source": [
    "sample = input(\"Comment for prediction: \")\n",
    "data = cv.transform([sample]).toarray()\n",
    "print(model.predict(data))"
   ]
  }
 ],
 "metadata": {
  "kernelspec": {
   "display_name": "Python 3 (ipykernel)",
   "language": "python",
   "name": "python3"
  },
  "language_info": {
   "codemirror_mode": {
    "name": "ipython",
    "version": 3
   },
   "file_extension": ".py",
   "mimetype": "text/x-python",
   "name": "python",
   "nbconvert_exporter": "python",
   "pygments_lexer": "ipython3",
   "version": "3.11.7"
  }
 },
 "nbformat": 4,
 "nbformat_minor": 5
}
